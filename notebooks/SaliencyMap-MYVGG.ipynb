{
 "cells": [
  {
   "cell_type": "markdown",
   "metadata": {
    "id": "H-aXxou_Zcup"
   },
   "source": [
    "# Setup"
   ]
  },
  {
   "cell_type": "code",
   "execution_count": 1,
   "metadata": {
    "id": "LiWinGjFXVep"
   },
   "outputs": [],
   "source": [
    "import warnings\n",
    "\n",
    "import numpy as np\n",
    "import pandas as pd\n",
    "\n",
    "import cv2\n",
    "from PIL import Image\n",
    "from matplotlib import pyplot as plt \n",
    "\n",
    "import torch\n",
    "import torch.nn as nn\n",
    "import torch.nn.functional as F\n",
    "from torch.utils.data import DataLoader\n",
    "from torch.utils.data import Dataset\n",
    "\n",
    "import torchvision\n",
    "import torchvision.transforms as transforms\n",
    "\n",
    "device = torch.device(\"cuda:0\" if torch.cuda.is_available() else \"cpu\")\n",
    "warnings.filterwarnings(\"ignore\")"
   ]
  },
  {
   "cell_type": "markdown",
   "metadata": {
    "id": "K2kiHdXNX8eH"
   },
   "source": [
    "## Dataset"
   ]
  },
  {
   "cell_type": "code",
   "execution_count": 2,
   "metadata": {
    "id": "rfKCU17vYKAJ"
   },
   "outputs": [],
   "source": [
    "class CustomDataset(Dataset):\n",
    "    def __init__(self, images, labels, transform=None):\n",
    "        self.images = images\n",
    "        self.labels = labels\n",
    "        self.transform = transform\n",
    "\n",
    "    def __len__(self):\n",
    "        return len(self.images)\n",
    "\n",
    "    def __getitem__(self, idx):\n",
    "        if torch.is_tensor(idx):\n",
    "            idx = idx.tolist()\n",
    "\n",
    "        img = np.array(self.images[idx])\n",
    "        img = Image.fromarray(img)\n",
    "\n",
    "        if self.transform:\n",
    "            img = self.transform(img)\n",
    "\n",
    "        label = torch.tensor(self.labels[idx]).type(torch.long)\n",
    "        sample = (img, label)\n",
    "\n",
    "        return sample"
   ]
  },
  {
   "cell_type": "code",
   "execution_count": 3,
   "metadata": {
    "id": "aRmuxs4HYErH"
   },
   "outputs": [],
   "source": [
    "def load_data(path='fer2013.csv'):\n",
    "    fer2013 = pd.read_csv(path)\n",
    "    emotion_mapping = {0: 'Angry', 1: 'Disgust', 2: 'Fear', 3: 'Happy', 4: 'Sad', 5: 'Surprise', 6: 'Neutral'}\n",
    "\n",
    "    return fer2013, emotion_mapping"
   ]
  },
  {
   "cell_type": "code",
   "execution_count": 4,
   "metadata": {
    "id": "z3TVdzO_YGO_"
   },
   "outputs": [],
   "source": [
    "def prepare_data(data):\n",
    "    \"\"\" Prepare data for modeling\n",
    "        input: data frame with labels und pixel data\n",
    "        output: image and label array \"\"\"\n",
    "\n",
    "    image_array = np.zeros(shape=(len(data), 48, 48))\n",
    "    image_label = np.array(list(map(int, data['emotion'])))\n",
    "\n",
    "    for i, row in enumerate(data.index):\n",
    "        image = np.fromstring(data.loc[row, 'pixels'], dtype=int, sep=' ')\n",
    "        image = np.reshape(image, (48, 48))\n",
    "        image_array[i] = image\n",
    "\n",
    "    return image_array, image_label"
   ]
  },
  {
   "cell_type": "code",
   "execution_count": 5,
   "metadata": {
    "id": "cQx97atGYDA8"
   },
   "outputs": [],
   "source": [
    "def get_dataloaders(path='fer2013.csv', bs=16):\n",
    "    \"\"\" Prepare train, val, & test dataloaders\n",
    "        Augment training data using:\n",
    "            - cropping\n",
    "            - shifting (vertical/horizental)\n",
    "            - horizental flipping\n",
    "            - rotation\n",
    "\n",
    "        input: path to fer2013 csv file\n",
    "        output: (Dataloader, Dataloader, Dataloader) \"\"\"\n",
    "\n",
    "    fer2013, emotion_mapping = load_data(path)\n",
    "\n",
    "    xtrain, ytrain = prepare_data(fer2013[fer2013['Usage'] == 'Training'])\n",
    "    xval, yval = prepare_data(fer2013[fer2013['Usage'] == 'PrivateTest'])\n",
    "    xtest, ytest = prepare_data(fer2013[fer2013['Usage'] == 'PublicTest'])\n",
    "\n",
    "    mu, st = 0, 255\n",
    "    test_transform = transforms.Compose([\n",
    "        transforms.Resize(40),\n",
    "        transforms.ToTensor(),\n",
    "        transforms.Normalize(mean=(mu,), std=(st,))\n",
    "    ])\n",
    "\n",
    "    train = CustomDataset(xtrain, ytrain, test_transform)\n",
    "    val = CustomDataset(xval, yval, test_transform)\n",
    "    test = CustomDataset(xtest, ytest, test_transform)\n",
    "\n",
    "    trainloader = DataLoader(train, batch_size=bs, shuffle=True, num_workers=0)\n",
    "    valloader = DataLoader(val, batch_size=bs, shuffle=True, num_workers=0)\n",
    "    testloader = DataLoader(test, batch_size=bs, shuffle=True, num_workers=0)\n",
    "\n",
    "    return trainloader, valloader, testloader"
   ]
  },
  {
   "cell_type": "code",
   "execution_count": 6,
   "metadata": {
    "id": "PwzQ8bI0AaXD"
   },
   "outputs": [],
   "source": [
    "# Setup Dataset\n",
    "trainloader, valloader, testloader = get_dataloaders(bs=1)"
   ]
  },
  {
   "cell_type": "markdown",
   "metadata": {
    "id": "3X9msdtpYL3L"
   },
   "source": [
    "## Model Architecture"
   ]
  },
  {
   "cell_type": "code",
   "execution_count": 7,
   "metadata": {
    "id": "I9aoI9iKrtEf"
   },
   "outputs": [],
   "source": [
    "class Vgg(nn.Module):\n",
    "    def __init__(self, drop=0.2):\n",
    "        super().__init__()\n",
    "\n",
    "        self.conv1a = nn.Conv2d(in_channels=1, out_channels=64, kernel_size=3, padding=1)\n",
    "        self.conv1b = nn.Conv2d(64, out_channels=64, kernel_size=3, padding=1)\n",
    "\n",
    "        self.conv2a = nn.Conv2d(64, 128, 3, padding=1)\n",
    "        self.conv2b = nn.Conv2d(128, 128, 3, padding=1)\n",
    "\n",
    "        self.conv3a = nn.Conv2d(128, 256, 3, padding=1)\n",
    "        self.conv3b = nn.Conv2d(256, 256, 3, padding=1)\n",
    "\n",
    "        self.conv4a = nn.Conv2d(256, 512, 3, padding=1)\n",
    "        self.conv4b = nn.Conv2d(512, 512, 3, padding=1)\n",
    "\n",
    "        self.pool = nn.MaxPool2d(kernel_size=2, stride=2)\n",
    "\n",
    "        self.bn1a = nn.BatchNorm2d(64)\n",
    "        self.bn1b = nn.BatchNorm2d(64)\n",
    "\n",
    "        self.bn2a = nn.BatchNorm2d(128)\n",
    "        self.bn2b = nn.BatchNorm2d(128)\n",
    "\n",
    "        self.bn3a = nn.BatchNorm2d(256)\n",
    "        self.bn3b = nn.BatchNorm2d(256)\n",
    "\n",
    "        self.bn4a = nn.BatchNorm2d(512)\n",
    "        self.bn4b = nn.BatchNorm2d(512)\n",
    "\n",
    "        self.lin1 = nn.Linear(512 * 2 * 2, 4096)\n",
    "        self.lin2 = nn.Linear(4096, 4096)\n",
    "\n",
    "        self.lin3 = nn.Linear(4096, 7)\n",
    "\n",
    "        self.drop = nn.Dropout(p=drop)\n",
    "\n",
    "    def forward(self, x):\n",
    "        x = F.relu(self.bn1a(self.conv1a(x)))\n",
    "        x = F.relu(self.bn1b(self.conv1b(x)))\n",
    "        x = self.pool(x)\n",
    "\n",
    "        x = F.relu(self.bn2a(self.conv2a(x)))\n",
    "        x = F.relu(self.bn2b(self.conv2b(x)))\n",
    "        x = self.pool(x)\n",
    "\n",
    "        x = F.relu(self.bn3a(self.conv3a(x)))\n",
    "        x = F.relu(self.bn3b(self.conv3b(x)))\n",
    "        x = self.pool(x)\n",
    "\n",
    "        x = F.relu(self.bn4a(self.conv4a(x)))\n",
    "        x = F.relu(self.bn4b(self.conv4b(x)))\n",
    "        x = self.pool(x)\n",
    "        \n",
    "        x = x.view(-1, 512 * 2 * 2)\n",
    "        x = F.relu(self.drop(self.lin1(x)))\n",
    "        x = F.relu(self.drop(self.lin2(x)))\n",
    "        x = self.lin3(x)\n",
    "\n",
    "        return x"
   ]
  },
  {
   "cell_type": "code",
   "execution_count": 8,
   "metadata": {
    "colab": {
     "base_uri": "https://localhost:8080/"
    },
    "id": "ftIu5uNeryFT",
    "outputId": "905acad4-4798-4995-ed70-8f3d4e31ed33"
   },
   "outputs": [
    {
     "data": {
      "text/plain": [
       "Vgg(\n",
       "  (conv1a): Conv2d(1, 64, kernel_size=(3, 3), stride=(1, 1), padding=(1, 1))\n",
       "  (conv1b): Conv2d(64, 64, kernel_size=(3, 3), stride=(1, 1), padding=(1, 1))\n",
       "  (conv2a): Conv2d(64, 128, kernel_size=(3, 3), stride=(1, 1), padding=(1, 1))\n",
       "  (conv2b): Conv2d(128, 128, kernel_size=(3, 3), stride=(1, 1), padding=(1, 1))\n",
       "  (conv3a): Conv2d(128, 256, kernel_size=(3, 3), stride=(1, 1), padding=(1, 1))\n",
       "  (conv3b): Conv2d(256, 256, kernel_size=(3, 3), stride=(1, 1), padding=(1, 1))\n",
       "  (conv4a): Conv2d(256, 512, kernel_size=(3, 3), stride=(1, 1), padding=(1, 1))\n",
       "  (conv4b): Conv2d(512, 512, kernel_size=(3, 3), stride=(1, 1), padding=(1, 1))\n",
       "  (pool): MaxPool2d(kernel_size=2, stride=2, padding=0, dilation=1, ceil_mode=False)\n",
       "  (bn1a): BatchNorm2d(64, eps=1e-05, momentum=0.1, affine=True, track_running_stats=True)\n",
       "  (bn1b): BatchNorm2d(64, eps=1e-05, momentum=0.1, affine=True, track_running_stats=True)\n",
       "  (bn2a): BatchNorm2d(128, eps=1e-05, momentum=0.1, affine=True, track_running_stats=True)\n",
       "  (bn2b): BatchNorm2d(128, eps=1e-05, momentum=0.1, affine=True, track_running_stats=True)\n",
       "  (bn3a): BatchNorm2d(256, eps=1e-05, momentum=0.1, affine=True, track_running_stats=True)\n",
       "  (bn3b): BatchNorm2d(256, eps=1e-05, momentum=0.1, affine=True, track_running_stats=True)\n",
       "  (bn4a): BatchNorm2d(512, eps=1e-05, momentum=0.1, affine=True, track_running_stats=True)\n",
       "  (bn4b): BatchNorm2d(512, eps=1e-05, momentum=0.1, affine=True, track_running_stats=True)\n",
       "  (lin1): Linear(in_features=2048, out_features=4096, bias=True)\n",
       "  (lin2): Linear(in_features=4096, out_features=4096, bias=True)\n",
       "  (lin3): Linear(in_features=4096, out_features=7, bias=True)\n",
       "  (drop): Dropout(p=0.2, inplace=False)\n",
       ")"
      ]
     },
     "execution_count": 8,
     "metadata": {},
     "output_type": "execute_result"
    }
   ],
   "source": [
    "# Load Trained Model\n",
    "checkpoint = torch.load('MYVGG')\n",
    "\n",
    "net = Vgg().to(device)\n",
    "net.load_state_dict(checkpoint[\"params\"])\n",
    "net.eval()"
   ]
  },
  {
   "cell_type": "markdown",
   "metadata": {
    "id": "GkMIU0PwZmaE"
   },
   "source": [
    "# Saliency Analysis"
   ]
  },
  {
   "cell_type": "code",
   "execution_count": 14,
   "metadata": {
    "colab": {
     "base_uri": "https://localhost:8080/"
    },
    "id": "TPNZIjxNqYaH",
    "outputId": "03a1595b-a975-4784-965b-b359c5bc4227"
   },
   "outputs": [
    {
     "name": "stdout",
     "output_type": "stream",
     "text": [
      "True\n"
     ]
    }
   ],
   "source": [
    "# get image from trainloader\n",
    "image, label = next(iter(trainloader))\n",
    "image_plt = torch.squeeze(image)\n",
    "\n",
    "# activate gradients for input/image\n",
    "image = image.to(device)\n",
    "image.requires_grad_()\n",
    "print(image.requires_grad)"
   ]
  },
  {
   "cell_type": "code",
   "execution_count": 15,
   "metadata": {
    "colab": {
     "base_uri": "https://localhost:8080/"
    },
    "id": "amz42JBjun2s",
    "outputId": "386a8d3e-c4e8-4fc4-c556-68cf8b46c1aa"
   },
   "outputs": [
    {
     "name": "stdout",
     "output_type": "stream",
     "text": [
      "Ground Truth: tensor([4])\n",
      "Prediction: tensor(4, device='cuda:0')\n"
     ]
    }
   ],
   "source": [
    "# pass image through network\n",
    "output = net(image)\n",
    "\n",
    "# get prediction and score\n",
    "prediction = output.argmax()\n",
    "output_max = output[0, prediction]\n",
    "\n",
    "# backprop score\n",
    "output_max.backward()\n",
    "\n",
    "# calculate saliency\n",
    "saliency, _ = torch.max(image.grad.data.abs(), dim=1) \n",
    "saliency = saliency.reshape(40, 40)\n",
    "\n",
    "# rescale between 0 and 1\n",
    "saliency -= saliency.min(1, keepdim=True)[0]\n",
    "saliency /= saliency.max(1, keepdim=True)[0]\n",
    "\n",
    "print(\"Ground Truth:\", label)\n",
    "print(\"Prediction:\", prediction)"
   ]
  },
  {
   "cell_type": "code",
   "execution_count": 16,
   "metadata": {
    "colab": {
     "base_uri": "https://localhost:8080/",
     "height": 361
    },
    "id": "CqFJX-b6vFEn",
    "outputId": "67b29b48-27f8-4670-a103-48844081b73b"
   },
   "outputs": [
    {
     "data": {
      "image/png": "[encoded data removed]",
      "text/plain": [
       "<Figure size 1080x360 with 4 Axes>"
      ]
     },
     "metadata": {
      "needs_background": "light"
     },
     "output_type": "display_data"
    }
   ],
   "source": [
    "fig, axs = plt.subplots(nrows=1, ncols=3, figsize=(15,5))\n",
    "plt.tight_layout()\n",
    "\n",
    "axs[0].set_title('Original Image', fontsize=18)\n",
    "axs[0].imshow(image_plt, cmap = 'gray')\n",
    "axs[0].axis('off')\n",
    "\n",
    "axs[1].set_title('Saliency Map', fontsize=18)\n",
    "im = axs[1].imshow(saliency.cpu(), cmap='Blues')\n",
    "axs[1].axis('off')\n",
    "\n",
    "axs[2].set_title('Superimposed Saliency Map', fontsize=18)\n",
    "axs[2].imshow(image_plt, cmap = 'gray')\n",
    "axs[2].imshow(saliency.cpu(), cmap='Blues', alpha=0.4)\n",
    "axs[2].axis('off')\n",
    "\n",
    "cbar = fig.colorbar(im, ax=axs.ravel().tolist())\n",
    "for t in cbar.ax.get_yticklabels():\n",
    "     t.set_fontsize(12)\n",
    "\n",
    "plt.savefig(\"saliency.png\", bbox_inches = 'tight')\n",
    "plt.show()"
   ]
  },
  {
   "cell_type": "code",
   "execution_count": null,
   "metadata": {
    "id": "gognlcW3t-R1"
   },
   "outputs": [],
   "source": []
  }
 ],
 "metadata": {
  "accelerator": "GPU",
  "colab": {
   "collapsed_sections": [],
   "name": "SaliencyMap.ipynb",
   "provenance": [],
   "toc_visible": true
  },
  "kernelspec": {
   "display_name": "Python 3 (ipykernel)",
   "language": "python",
   "name": "python3"
  },
  "language_info": {
   "codemirror_mode": {
    "name": "ipython",
    "version": 3
   },
   "file_extension": ".py",
   "mimetype": "text/x-python",
   "name": "python",
   "nbconvert_exporter": "python",
   "pygments_lexer": "ipython3",
   "version": "3.7.12"
  }
 },
 "nbformat": 4,
 "nbformat_minor": 1
}
